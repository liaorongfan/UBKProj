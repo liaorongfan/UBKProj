{
 "cells": [
  {
   "cell_type": "markdown",
   "source": [
    "## Transform data into common csv file"
   ],
   "metadata": {
    "collapsed": false
   }
  },
  {
   "cell_type": "code",
   "execution_count": 27,
   "outputs": [
    {
     "name": "stdout",
     "output_type": "stream",
     "text": [
      "odict_keys(['ukb'])\n"
     ]
    }
   ],
   "source": [
    "import pyreadr\n",
    "import pandas as pd\n",
    "\n",
    "# result = pyreadr.read_r('./ukb_2.Rdata')\n",
    "# print(result.keys())\n",
    "# data = result[\"ukb\"]\n",
    "# # sample_data = data.loc[:2000]\n",
    "# sample_data = data\n",
    "# sample_data.to_csv(\"ukb_sample.csv\")"
   ],
   "metadata": {
    "collapsed": false
   }
  },
  {
   "cell_type": "markdown",
   "source": [
    "## Remove Nan value"
   ],
   "metadata": {
    "collapsed": false
   }
  },
  {
   "cell_type": "code",
   "execution_count": 28,
   "outputs": [
    {
     "name": "stderr",
     "output_type": "stream",
     "text": [
      "<ipython-input-28-c79604f6c2e2>:1: DtypeWarning: Columns (146,148) have mixed types. Specify dtype option on import or set low_memory=False.\n",
      "  df = pd.read_csv(\"ukb_sample.csv\")\n"
     ]
    },
    {
     "name": "stdout",
     "output_type": "stream",
     "text": [
      "<class 'pandas.core.frame.DataFrame'>\n",
      "RangeIndex: 273353 entries, 0 to 273352\n",
      "Columns: 209 entries, Unnamed: 0 to dm\n",
      "dtypes: float64(193), int64(3), object(13)\n",
      "memory usage: 435.9+ MB\n"
     ]
    }
   ],
   "source": [
    "df = pd.read_csv(\"ukb_sample.csv\")\n",
    "df.info()"
   ],
   "metadata": {
    "collapsed": false
   }
  },
  {
   "cell_type": "code",
   "execution_count": 29,
   "outputs": [
    {
     "data": {
      "text/plain": "        Unnamed: 0        eid  smk_status.0  smk_status.1  smk_status.2  \\\n0                0  1000019.0           1.0           0.0           0.0   \n1                1  1000035.0           1.0           0.0           0.0   \n2                2  1000046.0           0.0           0.0           1.0   \n3                3  1000112.0           0.0           1.0           0.0   \n4                4  1000170.0           1.0           0.0           0.0   \n...            ...        ...           ...           ...           ...   \n273348      273348  6024956.0           0.0           0.0           1.0   \n273349      273349  6024974.0           0.0           1.0           0.0   \n273350      273350  6025004.0           1.0           0.0           0.0   \n273351      273351  6025023.0           1.0           0.0           0.0   \n273352      273352  6025031.0           1.0           0.0           0.0   \n\n        diff_hrt_oophorectomy_grp.0  diff_hrt_oophorectomy_grp.1  \\\n0                               NaN                          NaN   \n1                               NaN                          NaN   \n2                               0.0                          0.0   \n3                               NaN                          NaN   \n4                               NaN                          NaN   \n...                             ...                          ...   \n273348                          NaN                          NaN   \n273349                          NaN                          NaN   \n273350                          NaN                          NaN   \n273351                          NaN                          NaN   \n273352                          NaN                          NaN   \n\n        diff_hrt_oophorectomy_grp.2  diff_hrt_oophorectomy_grp.3  \\\n0                               NaN                          NaN   \n1                               NaN                          NaN   \n2                               1.0                          0.0   \n3                               NaN                          NaN   \n4                               NaN                          NaN   \n...                             ...                          ...   \n273348                          NaN                          NaN   \n273349                          NaN                          NaN   \n273350                          NaN                          NaN   \n273351                          NaN                          NaN   \n273352                          NaN                          NaN   \n\n        diff_hrt_natural_grp.0  ...  allpd.YN  time.alldem  time.alzhe1  \\\n0                          1.0  ...       0.0    13.391781    13.391781   \n1                          1.0  ...       0.0    13.545205    13.545205   \n2                          NaN  ...       0.0    13.849315    13.849315   \n3                          0.0  ...       0.0    13.460274    13.460274   \n4                          1.0  ...       0.0    13.575342    13.575342   \n...                        ...  ...       ...          ...          ...   \n273348                     1.0  ...       0.0    12.257534    12.257534   \n273349                     0.0  ...       0.0    13.578082    13.578082   \n273350                     1.0  ...       0.0    11.353425    11.353425   \n273351                     1.0  ...       0.0    11.682192    11.682192   \n273352                     0.0  ...       0.0    12.446575    12.446575   \n\n        time.vasdementia1  time.frontdementia  time.allpd  time.parkinson1  \\\n0               13.391781           13.391781   13.391781        13.391781   \n1               13.545205           13.545205   13.545205        13.545205   \n2               13.849315           13.849315   13.849315        13.849315   \n3               13.460274           13.460274   13.460274        13.460274   \n4               13.575342           13.575342   13.575342        13.575342   \n...                   ...                 ...         ...              ...   \n273348          12.257534           12.257534   12.257534        12.257534   \n273349          13.578082           13.578082   13.578082        13.578082   \n273350          11.353425           11.353425   11.353425        11.353425   \n273351          11.682192           11.682192   11.682192        11.682192   \n273352          12.446575           12.446575   12.446575        12.446575   \n\n        time.death  nonhdl   dm  \n0              NaN   3.953  0.0  \n1              NaN   5.877  0.0  \n2              NaN   4.898  0.0  \n3              NaN   3.400  0.0  \n4              NaN   3.990  0.0  \n...            ...     ...  ...  \n273348         NaN   5.411  0.0  \n273349         NaN     NaN  0.0  \n273350         NaN   4.061  0.0  \n273351         NaN   5.556  0.0  \n273352         NaN   4.799  0.0  \n\n[273353 rows x 209 columns]",
      "text/html": "<div>\n<style scoped>\n    .dataframe tbody tr th:only-of-type {\n        vertical-align: middle;\n    }\n\n    .dataframe tbody tr th {\n        vertical-align: top;\n    }\n\n    .dataframe thead th {\n        text-align: right;\n    }\n</style>\n<table border=\"1\" class=\"dataframe\">\n  <thead>\n    <tr style=\"text-align: right;\">\n      <th></th>\n      <th>Unnamed: 0</th>\n      <th>eid</th>\n      <th>smk_status.0</th>\n      <th>smk_status.1</th>\n      <th>smk_status.2</th>\n      <th>diff_hrt_oophorectomy_grp.0</th>\n      <th>diff_hrt_oophorectomy_grp.1</th>\n      <th>diff_hrt_oophorectomy_grp.2</th>\n      <th>diff_hrt_oophorectomy_grp.3</th>\n      <th>diff_hrt_natural_grp.0</th>\n      <th>...</th>\n      <th>allpd.YN</th>\n      <th>time.alldem</th>\n      <th>time.alzhe1</th>\n      <th>time.vasdementia1</th>\n      <th>time.frontdementia</th>\n      <th>time.allpd</th>\n      <th>time.parkinson1</th>\n      <th>time.death</th>\n      <th>nonhdl</th>\n      <th>dm</th>\n    </tr>\n  </thead>\n  <tbody>\n    <tr>\n      <th>0</th>\n      <td>0</td>\n      <td>1000019.0</td>\n      <td>1.0</td>\n      <td>0.0</td>\n      <td>0.0</td>\n      <td>NaN</td>\n      <td>NaN</td>\n      <td>NaN</td>\n      <td>NaN</td>\n      <td>1.0</td>\n      <td>...</td>\n      <td>0.0</td>\n      <td>13.391781</td>\n      <td>13.391781</td>\n      <td>13.391781</td>\n      <td>13.391781</td>\n      <td>13.391781</td>\n      <td>13.391781</td>\n      <td>NaN</td>\n      <td>3.953</td>\n      <td>0.0</td>\n    </tr>\n    <tr>\n      <th>1</th>\n      <td>1</td>\n      <td>1000035.0</td>\n      <td>1.0</td>\n      <td>0.0</td>\n      <td>0.0</td>\n      <td>NaN</td>\n      <td>NaN</td>\n      <td>NaN</td>\n      <td>NaN</td>\n      <td>1.0</td>\n      <td>...</td>\n      <td>0.0</td>\n      <td>13.545205</td>\n      <td>13.545205</td>\n      <td>13.545205</td>\n      <td>13.545205</td>\n      <td>13.545205</td>\n      <td>13.545205</td>\n      <td>NaN</td>\n      <td>5.877</td>\n      <td>0.0</td>\n    </tr>\n    <tr>\n      <th>2</th>\n      <td>2</td>\n      <td>1000046.0</td>\n      <td>0.0</td>\n      <td>0.0</td>\n      <td>1.0</td>\n      <td>0.0</td>\n      <td>0.0</td>\n      <td>1.0</td>\n      <td>0.0</td>\n      <td>NaN</td>\n      <td>...</td>\n      <td>0.0</td>\n      <td>13.849315</td>\n      <td>13.849315</td>\n      <td>13.849315</td>\n      <td>13.849315</td>\n      <td>13.849315</td>\n      <td>13.849315</td>\n      <td>NaN</td>\n      <td>4.898</td>\n      <td>0.0</td>\n    </tr>\n    <tr>\n      <th>3</th>\n      <td>3</td>\n      <td>1000112.0</td>\n      <td>0.0</td>\n      <td>1.0</td>\n      <td>0.0</td>\n      <td>NaN</td>\n      <td>NaN</td>\n      <td>NaN</td>\n      <td>NaN</td>\n      <td>0.0</td>\n      <td>...</td>\n      <td>0.0</td>\n      <td>13.460274</td>\n      <td>13.460274</td>\n      <td>13.460274</td>\n      <td>13.460274</td>\n      <td>13.460274</td>\n      <td>13.460274</td>\n      <td>NaN</td>\n      <td>3.400</td>\n      <td>0.0</td>\n    </tr>\n    <tr>\n      <th>4</th>\n      <td>4</td>\n      <td>1000170.0</td>\n      <td>1.0</td>\n      <td>0.0</td>\n      <td>0.0</td>\n      <td>NaN</td>\n      <td>NaN</td>\n      <td>NaN</td>\n      <td>NaN</td>\n      <td>1.0</td>\n      <td>...</td>\n      <td>0.0</td>\n      <td>13.575342</td>\n      <td>13.575342</td>\n      <td>13.575342</td>\n      <td>13.575342</td>\n      <td>13.575342</td>\n      <td>13.575342</td>\n      <td>NaN</td>\n      <td>3.990</td>\n      <td>0.0</td>\n    </tr>\n    <tr>\n      <th>...</th>\n      <td>...</td>\n      <td>...</td>\n      <td>...</td>\n      <td>...</td>\n      <td>...</td>\n      <td>...</td>\n      <td>...</td>\n      <td>...</td>\n      <td>...</td>\n      <td>...</td>\n      <td>...</td>\n      <td>...</td>\n      <td>...</td>\n      <td>...</td>\n      <td>...</td>\n      <td>...</td>\n      <td>...</td>\n      <td>...</td>\n      <td>...</td>\n      <td>...</td>\n      <td>...</td>\n    </tr>\n    <tr>\n      <th>273348</th>\n      <td>273348</td>\n      <td>6024956.0</td>\n      <td>0.0</td>\n      <td>0.0</td>\n      <td>1.0</td>\n      <td>NaN</td>\n      <td>NaN</td>\n      <td>NaN</td>\n      <td>NaN</td>\n      <td>1.0</td>\n      <td>...</td>\n      <td>0.0</td>\n      <td>12.257534</td>\n      <td>12.257534</td>\n      <td>12.257534</td>\n      <td>12.257534</td>\n      <td>12.257534</td>\n      <td>12.257534</td>\n      <td>NaN</td>\n      <td>5.411</td>\n      <td>0.0</td>\n    </tr>\n    <tr>\n      <th>273349</th>\n      <td>273349</td>\n      <td>6024974.0</td>\n      <td>0.0</td>\n      <td>1.0</td>\n      <td>0.0</td>\n      <td>NaN</td>\n      <td>NaN</td>\n      <td>NaN</td>\n      <td>NaN</td>\n      <td>0.0</td>\n      <td>...</td>\n      <td>0.0</td>\n      <td>13.578082</td>\n      <td>13.578082</td>\n      <td>13.578082</td>\n      <td>13.578082</td>\n      <td>13.578082</td>\n      <td>13.578082</td>\n      <td>NaN</td>\n      <td>NaN</td>\n      <td>0.0</td>\n    </tr>\n    <tr>\n      <th>273350</th>\n      <td>273350</td>\n      <td>6025004.0</td>\n      <td>1.0</td>\n      <td>0.0</td>\n      <td>0.0</td>\n      <td>NaN</td>\n      <td>NaN</td>\n      <td>NaN</td>\n      <td>NaN</td>\n      <td>1.0</td>\n      <td>...</td>\n      <td>0.0</td>\n      <td>11.353425</td>\n      <td>11.353425</td>\n      <td>11.353425</td>\n      <td>11.353425</td>\n      <td>11.353425</td>\n      <td>11.353425</td>\n      <td>NaN</td>\n      <td>4.061</td>\n      <td>0.0</td>\n    </tr>\n    <tr>\n      <th>273351</th>\n      <td>273351</td>\n      <td>6025023.0</td>\n      <td>1.0</td>\n      <td>0.0</td>\n      <td>0.0</td>\n      <td>NaN</td>\n      <td>NaN</td>\n      <td>NaN</td>\n      <td>NaN</td>\n      <td>1.0</td>\n      <td>...</td>\n      <td>0.0</td>\n      <td>11.682192</td>\n      <td>11.682192</td>\n      <td>11.682192</td>\n      <td>11.682192</td>\n      <td>11.682192</td>\n      <td>11.682192</td>\n      <td>NaN</td>\n      <td>5.556</td>\n      <td>0.0</td>\n    </tr>\n    <tr>\n      <th>273352</th>\n      <td>273352</td>\n      <td>6025031.0</td>\n      <td>1.0</td>\n      <td>0.0</td>\n      <td>0.0</td>\n      <td>NaN</td>\n      <td>NaN</td>\n      <td>NaN</td>\n      <td>NaN</td>\n      <td>0.0</td>\n      <td>...</td>\n      <td>0.0</td>\n      <td>12.446575</td>\n      <td>12.446575</td>\n      <td>12.446575</td>\n      <td>12.446575</td>\n      <td>12.446575</td>\n      <td>12.446575</td>\n      <td>NaN</td>\n      <td>4.799</td>\n      <td>0.0</td>\n    </tr>\n  </tbody>\n</table>\n<p>273353 rows × 209 columns</p>\n</div>"
     },
     "execution_count": 29,
     "metadata": {},
     "output_type": "execute_result"
    }
   ],
   "source": [
    "df"
   ],
   "metadata": {
    "collapsed": false
   }
  },
  {
   "cell_type": "code",
   "execution_count": 30,
   "outputs": [],
   "source": [
    "for i, key in enumerate(df.keys()):\n",
    "    df[key].fillna(-1, inplace=True)"
   ],
   "metadata": {
    "collapsed": false
   }
  },
  {
   "cell_type": "code",
   "execution_count": 5,
   "outputs": [
    {
     "data": {
      "text/plain": "      Unnamed: 0        eid  smk_status.0  smk_status.1  smk_status.2  \\\n0              0  1000019.0           1.0           0.0           0.0   \n1              1  1000035.0           1.0           0.0           0.0   \n2              2  1000046.0           0.0           0.0           1.0   \n3              3  1000112.0           0.0           1.0           0.0   \n4              4  1000170.0           1.0           0.0           0.0   \n...          ...        ...           ...           ...           ...   \n1996        1996  1037535.0           1.0           0.0           0.0   \n1997        1997  1037546.0           0.0           1.0           0.0   \n1998        1998  1037563.0           1.0           0.0           0.0   \n1999        1999  1037578.0           1.0           0.0           0.0   \n2000        2000  1037590.0           0.0           0.0           1.0   \n\n      diff_hrt_oophorectomy_grp.0  diff_hrt_oophorectomy_grp.1  \\\n0                            -1.0                         -1.0   \n1                            -1.0                         -1.0   \n2                             0.0                          0.0   \n3                            -1.0                         -1.0   \n4                            -1.0                         -1.0   \n...                           ...                          ...   \n1996                         -1.0                         -1.0   \n1997                         -1.0                         -1.0   \n1998                         -1.0                         -1.0   \n1999                         -1.0                         -1.0   \n2000                         -1.0                         -1.0   \n\n      diff_hrt_oophorectomy_grp.2  diff_hrt_oophorectomy_grp.3  \\\n0                            -1.0                         -1.0   \n1                            -1.0                         -1.0   \n2                             1.0                          0.0   \n3                            -1.0                         -1.0   \n4                            -1.0                         -1.0   \n...                           ...                          ...   \n1996                         -1.0                         -1.0   \n1997                         -1.0                         -1.0   \n1998                         -1.0                         -1.0   \n1999                         -1.0                         -1.0   \n2000                         -1.0                         -1.0   \n\n      diff_hrt_natural_grp.0  ...  allpd.YN  time.alldem  time.alzhe1  \\\n0                        1.0  ...       0.0    13.391781    13.391781   \n1                        1.0  ...       0.0    13.545205    13.545205   \n2                       -1.0  ...       0.0    13.849315    13.849315   \n3                        0.0  ...       0.0    13.460274    13.460274   \n4                        1.0  ...       0.0    13.575342    13.575342   \n...                      ...  ...       ...          ...          ...   \n1996                     1.0  ...       0.0    12.717808    12.717808   \n1997                     0.0  ...       0.0    11.320548    11.320548   \n1998                     1.0  ...       0.0    11.693151    11.693151   \n1999                     0.0  ...       0.0    12.287671    12.287671   \n2000                     0.0  ...       0.0    11.263014    11.263014   \n\n      time.vasdementia1  time.frontdementia  time.allpd  time.parkinson1  \\\n0             13.391781           13.391781   13.391781        13.391781   \n1             13.545205           13.545205   13.545205        13.545205   \n2             13.849315           13.849315   13.849315        13.849315   \n3             13.460274           13.460274   13.460274        13.460274   \n4             13.575342           13.575342   13.575342        13.575342   \n...                 ...                 ...         ...              ...   \n1996          12.717808           12.717808   12.717808        12.717808   \n1997          11.320548           11.320548   11.320548        11.320548   \n1998          11.693151           11.693151   11.693151        11.693151   \n1999          12.287671           12.287671   12.287671        12.287671   \n2000          11.263014           11.263014   11.263014        11.263014   \n\n      time.death  nonhdl   dm  \n0           -1.0   3.953  0.0  \n1           -1.0   5.877  0.0  \n2           -1.0   4.898  0.0  \n3           -1.0   3.400  0.0  \n4           -1.0   3.990  0.0  \n...          ...     ...  ...  \n1996        -1.0   4.606  0.0  \n1997        -1.0   3.684  0.0  \n1998        -1.0   6.307  0.0  \n1999        -1.0   4.724  0.0  \n2000        -1.0   3.600  0.0  \n\n[2001 rows x 209 columns]",
      "text/html": "<div>\n<style scoped>\n    .dataframe tbody tr th:only-of-type {\n        vertical-align: middle;\n    }\n\n    .dataframe tbody tr th {\n        vertical-align: top;\n    }\n\n    .dataframe thead th {\n        text-align: right;\n    }\n</style>\n<table border=\"1\" class=\"dataframe\">\n  <thead>\n    <tr style=\"text-align: right;\">\n      <th></th>\n      <th>Unnamed: 0</th>\n      <th>eid</th>\n      <th>smk_status.0</th>\n      <th>smk_status.1</th>\n      <th>smk_status.2</th>\n      <th>diff_hrt_oophorectomy_grp.0</th>\n      <th>diff_hrt_oophorectomy_grp.1</th>\n      <th>diff_hrt_oophorectomy_grp.2</th>\n      <th>diff_hrt_oophorectomy_grp.3</th>\n      <th>diff_hrt_natural_grp.0</th>\n      <th>...</th>\n      <th>allpd.YN</th>\n      <th>time.alldem</th>\n      <th>time.alzhe1</th>\n      <th>time.vasdementia1</th>\n      <th>time.frontdementia</th>\n      <th>time.allpd</th>\n      <th>time.parkinson1</th>\n      <th>time.death</th>\n      <th>nonhdl</th>\n      <th>dm</th>\n    </tr>\n  </thead>\n  <tbody>\n    <tr>\n      <th>0</th>\n      <td>0</td>\n      <td>1000019.0</td>\n      <td>1.0</td>\n      <td>0.0</td>\n      <td>0.0</td>\n      <td>-1.0</td>\n      <td>-1.0</td>\n      <td>-1.0</td>\n      <td>-1.0</td>\n      <td>1.0</td>\n      <td>...</td>\n      <td>0.0</td>\n      <td>13.391781</td>\n      <td>13.391781</td>\n      <td>13.391781</td>\n      <td>13.391781</td>\n      <td>13.391781</td>\n      <td>13.391781</td>\n      <td>-1.0</td>\n      <td>3.953</td>\n      <td>0.0</td>\n    </tr>\n    <tr>\n      <th>1</th>\n      <td>1</td>\n      <td>1000035.0</td>\n      <td>1.0</td>\n      <td>0.0</td>\n      <td>0.0</td>\n      <td>-1.0</td>\n      <td>-1.0</td>\n      <td>-1.0</td>\n      <td>-1.0</td>\n      <td>1.0</td>\n      <td>...</td>\n      <td>0.0</td>\n      <td>13.545205</td>\n      <td>13.545205</td>\n      <td>13.545205</td>\n      <td>13.545205</td>\n      <td>13.545205</td>\n      <td>13.545205</td>\n      <td>-1.0</td>\n      <td>5.877</td>\n      <td>0.0</td>\n    </tr>\n    <tr>\n      <th>2</th>\n      <td>2</td>\n      <td>1000046.0</td>\n      <td>0.0</td>\n      <td>0.0</td>\n      <td>1.0</td>\n      <td>0.0</td>\n      <td>0.0</td>\n      <td>1.0</td>\n      <td>0.0</td>\n      <td>-1.0</td>\n      <td>...</td>\n      <td>0.0</td>\n      <td>13.849315</td>\n      <td>13.849315</td>\n      <td>13.849315</td>\n      <td>13.849315</td>\n      <td>13.849315</td>\n      <td>13.849315</td>\n      <td>-1.0</td>\n      <td>4.898</td>\n      <td>0.0</td>\n    </tr>\n    <tr>\n      <th>3</th>\n      <td>3</td>\n      <td>1000112.0</td>\n      <td>0.0</td>\n      <td>1.0</td>\n      <td>0.0</td>\n      <td>-1.0</td>\n      <td>-1.0</td>\n      <td>-1.0</td>\n      <td>-1.0</td>\n      <td>0.0</td>\n      <td>...</td>\n      <td>0.0</td>\n      <td>13.460274</td>\n      <td>13.460274</td>\n      <td>13.460274</td>\n      <td>13.460274</td>\n      <td>13.460274</td>\n      <td>13.460274</td>\n      <td>-1.0</td>\n      <td>3.400</td>\n      <td>0.0</td>\n    </tr>\n    <tr>\n      <th>4</th>\n      <td>4</td>\n      <td>1000170.0</td>\n      <td>1.0</td>\n      <td>0.0</td>\n      <td>0.0</td>\n      <td>-1.0</td>\n      <td>-1.0</td>\n      <td>-1.0</td>\n      <td>-1.0</td>\n      <td>1.0</td>\n      <td>...</td>\n      <td>0.0</td>\n      <td>13.575342</td>\n      <td>13.575342</td>\n      <td>13.575342</td>\n      <td>13.575342</td>\n      <td>13.575342</td>\n      <td>13.575342</td>\n      <td>-1.0</td>\n      <td>3.990</td>\n      <td>0.0</td>\n    </tr>\n    <tr>\n      <th>...</th>\n      <td>...</td>\n      <td>...</td>\n      <td>...</td>\n      <td>...</td>\n      <td>...</td>\n      <td>...</td>\n      <td>...</td>\n      <td>...</td>\n      <td>...</td>\n      <td>...</td>\n      <td>...</td>\n      <td>...</td>\n      <td>...</td>\n      <td>...</td>\n      <td>...</td>\n      <td>...</td>\n      <td>...</td>\n      <td>...</td>\n      <td>...</td>\n      <td>...</td>\n      <td>...</td>\n    </tr>\n    <tr>\n      <th>1996</th>\n      <td>1996</td>\n      <td>1037535.0</td>\n      <td>1.0</td>\n      <td>0.0</td>\n      <td>0.0</td>\n      <td>-1.0</td>\n      <td>-1.0</td>\n      <td>-1.0</td>\n      <td>-1.0</td>\n      <td>1.0</td>\n      <td>...</td>\n      <td>0.0</td>\n      <td>12.717808</td>\n      <td>12.717808</td>\n      <td>12.717808</td>\n      <td>12.717808</td>\n      <td>12.717808</td>\n      <td>12.717808</td>\n      <td>-1.0</td>\n      <td>4.606</td>\n      <td>0.0</td>\n    </tr>\n    <tr>\n      <th>1997</th>\n      <td>1997</td>\n      <td>1037546.0</td>\n      <td>0.0</td>\n      <td>1.0</td>\n      <td>0.0</td>\n      <td>-1.0</td>\n      <td>-1.0</td>\n      <td>-1.0</td>\n      <td>-1.0</td>\n      <td>0.0</td>\n      <td>...</td>\n      <td>0.0</td>\n      <td>11.320548</td>\n      <td>11.320548</td>\n      <td>11.320548</td>\n      <td>11.320548</td>\n      <td>11.320548</td>\n      <td>11.320548</td>\n      <td>-1.0</td>\n      <td>3.684</td>\n      <td>0.0</td>\n    </tr>\n    <tr>\n      <th>1998</th>\n      <td>1998</td>\n      <td>1037563.0</td>\n      <td>1.0</td>\n      <td>0.0</td>\n      <td>0.0</td>\n      <td>-1.0</td>\n      <td>-1.0</td>\n      <td>-1.0</td>\n      <td>-1.0</td>\n      <td>1.0</td>\n      <td>...</td>\n      <td>0.0</td>\n      <td>11.693151</td>\n      <td>11.693151</td>\n      <td>11.693151</td>\n      <td>11.693151</td>\n      <td>11.693151</td>\n      <td>11.693151</td>\n      <td>-1.0</td>\n      <td>6.307</td>\n      <td>0.0</td>\n    </tr>\n    <tr>\n      <th>1999</th>\n      <td>1999</td>\n      <td>1037578.0</td>\n      <td>1.0</td>\n      <td>0.0</td>\n      <td>0.0</td>\n      <td>-1.0</td>\n      <td>-1.0</td>\n      <td>-1.0</td>\n      <td>-1.0</td>\n      <td>0.0</td>\n      <td>...</td>\n      <td>0.0</td>\n      <td>12.287671</td>\n      <td>12.287671</td>\n      <td>12.287671</td>\n      <td>12.287671</td>\n      <td>12.287671</td>\n      <td>12.287671</td>\n      <td>-1.0</td>\n      <td>4.724</td>\n      <td>0.0</td>\n    </tr>\n    <tr>\n      <th>2000</th>\n      <td>2000</td>\n      <td>1037590.0</td>\n      <td>0.0</td>\n      <td>0.0</td>\n      <td>1.0</td>\n      <td>-1.0</td>\n      <td>-1.0</td>\n      <td>-1.0</td>\n      <td>-1.0</td>\n      <td>0.0</td>\n      <td>...</td>\n      <td>0.0</td>\n      <td>11.263014</td>\n      <td>11.263014</td>\n      <td>11.263014</td>\n      <td>11.263014</td>\n      <td>11.263014</td>\n      <td>11.263014</td>\n      <td>-1.0</td>\n      <td>3.600</td>\n      <td>0.0</td>\n    </tr>\n  </tbody>\n</table>\n<p>2001 rows × 209 columns</p>\n</div>"
     },
     "execution_count": 5,
     "metadata": {},
     "output_type": "execute_result"
    }
   ],
   "source": [
    "df"
   ],
   "metadata": {
    "collapsed": false
   }
  },
  {
   "cell_type": "code",
   "execution_count": 33,
   "outputs": [
    {
     "data": {
      "text/plain": "0"
     },
     "execution_count": 33,
     "metadata": {},
     "output_type": "execute_result"
    }
   ],
   "source": [
    "df.isna().sum().sum()"
   ],
   "metadata": {
    "collapsed": false
   }
  },
  {
   "cell_type": "markdown",
   "source": [
    "## Process endometri attribute\n",
    "1) fill Nan with -1\n",
    "\n",
    "2) replace date with 1"
   ],
   "metadata": {
    "collapsed": false
   }
  },
  {
   "cell_type": "code",
   "execution_count": 35,
   "outputs": [
    {
     "data": {
      "text/plain": "0         -1\n1         -1\n2         -1\n3         -1\n4         -1\n          ..\n273348    -1\n273349    -1\n273350    -1\n273351    -1\n273352    -1\nName: endometri, Length: 273353, dtype: object"
     },
     "execution_count": 35,
     "metadata": {},
     "output_type": "execute_result"
    }
   ],
   "source": [
    "df[\"endometri\"]"
   ],
   "metadata": {
    "collapsed": false
   }
  },
  {
   "cell_type": "code",
   "execution_count": 36,
   "outputs": [
    {
     "data": {
      "text/plain": "0        -1\n1        -1\n2        -1\n3        -1\n4        -1\n         ..\n273348   -1\n273349   -1\n273350   -1\n273351   -1\n273352   -1\nName: endometri, Length: 273353, dtype: int64"
     },
     "execution_count": 36,
     "metadata": {},
     "output_type": "execute_result"
    }
   ],
   "source": [
    "df.loc[df[\"endometri\"] != -1] = 1\n",
    "df.endometri = df.endometri.astype(int)\n",
    "df.endometri"
   ],
   "metadata": {
    "collapsed": false
   }
  },
  {
   "cell_type": "code",
   "execution_count": 37,
   "outputs": [
    {
     "data": {
      "text/plain": "9939"
     },
     "execution_count": 37,
     "metadata": {},
     "output_type": "execute_result"
    }
   ],
   "source": [
    "(df[\"endometri\"] == 1).sum()"
   ],
   "metadata": {
    "collapsed": false
   }
  },
  {
   "cell_type": "code",
   "execution_count": null,
   "outputs": [],
   "source": [
    "# from datetime import datetime\n",
    "# period = datetime(2022, 12, 22) - df.dateofattending.astype(\"datetime64\")\n",
    "# period.map(lambda x: x.days)"
   ],
   "metadata": {
    "collapsed": false,
    "pycharm": {
     "is_executing": true
    }
   }
  },
  {
   "cell_type": "markdown",
   "source": [
    "## Remove column with date info"
   ],
   "metadata": {
    "collapsed": false
   }
  },
  {
   "cell_type": "code",
   "execution_count": 38,
   "outputs": [
    {
     "name": "stdout",
     "output_type": "stream",
     "text": [
      "dateofattending\n",
      "alldementia\n",
      "alzhe1\n",
      "alzhe2\n",
      "vasdementia1\n",
      "vasdementia2\n",
      "frontdementia\n",
      "allparkin\n",
      "parkinson1\n",
      "parkinson2\n",
      "death\n",
      "ectopicpreg\n",
      "{dtype('float64'), dtype('O'), dtype('int64')}\n",
      "dict_items([('int64', 4), ('float64', 193), ('object', 12)])\n"
     ]
    }
   ],
   "source": [
    "from collections import defaultdict\n",
    "data_type = set()\n",
    "data_type_dict = defaultdict(int)\n",
    "\n",
    "for key in df.keys():\n",
    "    if df[key].dtype == \"object\":\n",
    "        df.drop(columns=[key], inplace=True)\n",
    "        print(key)\n",
    "\n",
    "    data_type.add(df[key].dtype)\n",
    "    data_type_dict[str(df[key].dtype)] += 1\n",
    "print(data_type)\n",
    "print(data_type_dict.items())"
   ],
   "metadata": {
    "collapsed": false
   }
  },
  {
   "cell_type": "code",
   "execution_count": 39,
   "outputs": [],
   "source": [
    "for key in df.keys():\n",
    "    if df[key].dtype == \"object\":\n",
    "        df.drop(columns=[key], inplace=True)\n"
   ],
   "metadata": {
    "collapsed": false
   }
  },
  {
   "cell_type": "code",
   "execution_count": 40,
   "outputs": [
    {
     "data": {
      "text/plain": "0        -1\n1        -1\n2        -1\n3        -1\n4        -1\n         ..\n273348   -1\n273349   -1\n273350   -1\n273351   -1\n273352   -1\nName: endometri, Length: 273353, dtype: int64"
     },
     "execution_count": 40,
     "metadata": {},
     "output_type": "execute_result"
    }
   ],
   "source": [
    "df.endometri\n"
   ],
   "metadata": {
    "collapsed": false
   }
  },
  {
   "cell_type": "code",
   "execution_count": 41,
   "outputs": [],
   "source": [
    "df.drop(columns=[\"Unnamed: 0\", \"eid\"], inplace=True)"
   ],
   "metadata": {
    "collapsed": false
   }
  },
  {
   "cell_type": "markdown",
   "source": [
    "## Save numpy array for training / valid / test"
   ],
   "metadata": {
    "collapsed": false
   }
  },
  {
   "cell_type": "code",
   "execution_count": 42,
   "outputs": [],
   "source": [
    "label = df.pop(\"endometri\")\n",
    "df.insert(df.shape[1], \"endometri\", label)"
   ],
   "metadata": {
    "collapsed": false
   }
  },
  {
   "cell_type": "code",
   "execution_count": 43,
   "outputs": [],
   "source": [
    "data = df.to_numpy()"
   ],
   "metadata": {
    "collapsed": false
   }
  },
  {
   "cell_type": "code",
   "execution_count": 45,
   "outputs": [],
   "source": [
    "import numpy as np\n",
    "np.save(\"ukb_array_all.npy\", data)"
   ],
   "metadata": {
    "collapsed": false
   }
  },
  {
   "cell_type": "code",
   "execution_count": 51,
   "outputs": [],
   "source": [
    "def split_data(array):\n",
    "    row_total = array.shape[0]\n",
    "    num_train_sample = int(row_total * 0.7)\n",
    "    num_valid_sample = int(row_total * 0.2)\n",
    "    num_test_sample = int(row_total * 0.1)\n",
    "    row_sequence = np.arange(row_total)\n",
    "    np.random.shuffle(row_sequence)\n",
    "    train_arr = array[row_sequence[0: num_train_sample], :]\n",
    "    valid_arr = array[row_sequence[num_train_sample: num_train_sample + num_valid_sample], :]\n",
    "    test_arr = array[row_sequence[-num_test_sample: ], :]\n",
    "    np.save(\"ukb_array_train.npy\", train_arr)\n",
    "    np.save(\"ukb_array_valid.npy\", valid_arr)\n",
    "    np.save(\"ukb_array_test.npy\", test_arr)\n",
    "    return train_arr, valid_arr, test_arr\n",
    "\n",
    "train_arr, valid_arr, test_arr = split_data(data)"
   ],
   "metadata": {
    "collapsed": false
   }
  }
 ],
 "metadata": {
  "kernelspec": {
   "display_name": "Python 3",
   "language": "python",
   "name": "python3"
  },
  "language_info": {
   "codemirror_mode": {
    "name": "ipython",
    "version": 2
   },
   "file_extension": ".py",
   "mimetype": "text/x-python",
   "name": "python",
   "nbconvert_exporter": "python",
   "pygments_lexer": "ipython2",
   "version": "2.7.6"
  }
 },
 "nbformat": 4,
 "nbformat_minor": 0
}
