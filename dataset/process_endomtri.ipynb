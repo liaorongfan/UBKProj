{
 "cells": [
  {
   "cell_type": "markdown",
   "source": [
    "## Remove Nan value"
   ],
   "metadata": {
    "collapsed": false
   }
  },
  {
   "cell_type": "code",
   "execution_count": 1,
   "outputs": [
    {
     "name": "stderr",
     "output_type": "stream",
     "text": [
      "<ipython-input-1-f3df4db9ce58>:3: DtypeWarning: Columns (146,148) have mixed types. Specify dtype option on import or set low_memory=False.\n",
      "  df = pd.read_csv(\"ukb_sample.csv\")\n"
     ]
    },
    {
     "name": "stdout",
     "output_type": "stream",
     "text": [
      "<class 'pandas.core.frame.DataFrame'>\n",
      "RangeIndex: 273353 entries, 0 to 273352\n",
      "Columns: 209 entries, Unnamed: 0 to dm\n",
      "dtypes: float64(193), int64(3), object(13)\n",
      "memory usage: 435.9+ MB\n"
     ]
    }
   ],
   "source": [
    "import pandas as pd\n",
    "\n",
    "df = pd.read_csv(\"ukb_sample.csv\")\n",
    "df.info()\n"
   ],
   "metadata": {
    "collapsed": false
   }
  },
  {
   "cell_type": "code",
   "execution_count": 2,
   "outputs": [
    {
     "data": {
      "text/plain": "       dateofattending endometri\n0           2008-06-03       NaN\n1           2008-04-08       NaN\n2           2007-12-19       NaN\n3           2008-05-09       NaN\n4           2008-03-28       NaN\n...                ...       ...\n273348      2009-07-22       NaN\n273349      2008-03-27       NaN\n273350      2010-06-17       NaN\n273351      2010-02-17       NaN\n273352      2009-05-14       NaN\n\n[273353 rows x 2 columns]",
      "text/html": "<div>\n<style scoped>\n    .dataframe tbody tr th:only-of-type {\n        vertical-align: middle;\n    }\n\n    .dataframe tbody tr th {\n        vertical-align: top;\n    }\n\n    .dataframe thead th {\n        text-align: right;\n    }\n</style>\n<table border=\"1\" class=\"dataframe\">\n  <thead>\n    <tr style=\"text-align: right;\">\n      <th></th>\n      <th>dateofattending</th>\n      <th>endometri</th>\n    </tr>\n  </thead>\n  <tbody>\n    <tr>\n      <th>0</th>\n      <td>2008-06-03</td>\n      <td>NaN</td>\n    </tr>\n    <tr>\n      <th>1</th>\n      <td>2008-04-08</td>\n      <td>NaN</td>\n    </tr>\n    <tr>\n      <th>2</th>\n      <td>2007-12-19</td>\n      <td>NaN</td>\n    </tr>\n    <tr>\n      <th>3</th>\n      <td>2008-05-09</td>\n      <td>NaN</td>\n    </tr>\n    <tr>\n      <th>4</th>\n      <td>2008-03-28</td>\n      <td>NaN</td>\n    </tr>\n    <tr>\n      <th>...</th>\n      <td>...</td>\n      <td>...</td>\n    </tr>\n    <tr>\n      <th>273348</th>\n      <td>2009-07-22</td>\n      <td>NaN</td>\n    </tr>\n    <tr>\n      <th>273349</th>\n      <td>2008-03-27</td>\n      <td>NaN</td>\n    </tr>\n    <tr>\n      <th>273350</th>\n      <td>2010-06-17</td>\n      <td>NaN</td>\n    </tr>\n    <tr>\n      <th>273351</th>\n      <td>2010-02-17</td>\n      <td>NaN</td>\n    </tr>\n    <tr>\n      <th>273352</th>\n      <td>2009-05-14</td>\n      <td>NaN</td>\n    </tr>\n  </tbody>\n</table>\n<p>273353 rows × 2 columns</p>\n</div>"
     },
     "execution_count": 2,
     "metadata": {},
     "output_type": "execute_result"
    }
   ],
   "source": [
    "df[['dateofattending', \"endometri\"]]"
   ],
   "metadata": {
    "collapsed": false
   }
  },
  {
   "cell_type": "code",
   "execution_count": 3,
   "outputs": [
    {
     "data": {
      "text/plain": "        dateofattending  endometri\n0              20080603          0\n1              20080408          0\n2              20071219          0\n3              20080509          0\n4              20080328          0\n...                 ...        ...\n273348         20090722          0\n273349         20080327          0\n273350         20100617          0\n273351         20100217          0\n273352         20090514          0\n\n[273353 rows x 2 columns]",
      "text/html": "<div>\n<style scoped>\n    .dataframe tbody tr th:only-of-type {\n        vertical-align: middle;\n    }\n\n    .dataframe tbody tr th {\n        vertical-align: top;\n    }\n\n    .dataframe thead th {\n        text-align: right;\n    }\n</style>\n<table border=\"1\" class=\"dataframe\">\n  <thead>\n    <tr style=\"text-align: right;\">\n      <th></th>\n      <th>dateofattending</th>\n      <th>endometri</th>\n    </tr>\n  </thead>\n  <tbody>\n    <tr>\n      <th>0</th>\n      <td>20080603</td>\n      <td>0</td>\n    </tr>\n    <tr>\n      <th>1</th>\n      <td>20080408</td>\n      <td>0</td>\n    </tr>\n    <tr>\n      <th>2</th>\n      <td>20071219</td>\n      <td>0</td>\n    </tr>\n    <tr>\n      <th>3</th>\n      <td>20080509</td>\n      <td>0</td>\n    </tr>\n    <tr>\n      <th>4</th>\n      <td>20080328</td>\n      <td>0</td>\n    </tr>\n    <tr>\n      <th>...</th>\n      <td>...</td>\n      <td>...</td>\n    </tr>\n    <tr>\n      <th>273348</th>\n      <td>20090722</td>\n      <td>0</td>\n    </tr>\n    <tr>\n      <th>273349</th>\n      <td>20080327</td>\n      <td>0</td>\n    </tr>\n    <tr>\n      <th>273350</th>\n      <td>20100617</td>\n      <td>0</td>\n    </tr>\n    <tr>\n      <th>273351</th>\n      <td>20100217</td>\n      <td>0</td>\n    </tr>\n    <tr>\n      <th>273352</th>\n      <td>20090514</td>\n      <td>0</td>\n    </tr>\n  </tbody>\n</table>\n<p>273353 rows × 2 columns</p>\n</div>"
     },
     "execution_count": 3,
     "metadata": {},
     "output_type": "execute_result"
    }
   ],
   "source": [
    "df.dateofattending  = df.dateofattending.map(lambda x : x.replace(\"-\", \"\")).astype(int)\n",
    "df.endometri = df.endometri.map(lambda x: str(x).replace(\"-\", \"\").replace(\"nan\", \"0\")).astype(int)\n",
    "df[['dateofattending', \"endometri\"]]"
   ],
   "metadata": {
    "collapsed": false
   }
  },
  {
   "cell_type": "code",
   "execution_count": 4,
   "outputs": [
    {
     "data": {
      "text/plain": "0         20080603\n1         20080408\n2         20071219\n3         20080509\n4         20080328\n            ...   \n273348    20090722\n273349    20080327\n273350    20100617\n273351    20100217\n273352    20090514\nLength: 273353, dtype: int64"
     },
     "execution_count": 4,
     "metadata": {},
     "output_type": "execute_result"
    }
   ],
   "source": [
    "label = df.dateofattending - df.endometri\n",
    "label"
   ],
   "metadata": {
    "collapsed": false
   }
  },
  {
   "cell_type": "code",
   "execution_count": 5,
   "outputs": [
    {
     "data": {
      "text/plain": "0         0\n1         0\n2         0\n3         0\n4         0\n         ..\n273348    0\n273349    0\n273350    0\n273351    0\n273352    0\nLength: 273353, dtype: int64"
     },
     "execution_count": 5,
     "metadata": {},
     "output_type": "execute_result"
    }
   ],
   "source": [
    "label.loc[df.endometri == 0] = 0\n",
    "label"
   ],
   "metadata": {
    "collapsed": false
   }
  },
  {
   "cell_type": "code",
   "execution_count": 6,
   "outputs": [
    {
     "data": {
      "text/plain": "0         0\n1         0\n2         0\n3         0\n4         0\n         ..\n273348    0\n273349    0\n273350    0\n273351    0\n273352    0\nLength: 273353, dtype: int64"
     },
     "execution_count": 6,
     "metadata": {},
     "output_type": "execute_result"
    }
   ],
   "source": [
    "label.loc[label > 0] = 1\n",
    "label.loc[label < 0] = 2\n",
    "label"
   ],
   "metadata": {
    "collapsed": false
   }
  },
  {
   "cell_type": "code",
   "execution_count": 7,
   "outputs": [
    {
     "name": "stdout",
     "output_type": "stream",
     "text": [
      "health: 263414, sick_after: 8372, sick_before: 1567\n",
      "273353\n"
     ]
    }
   ],
   "source": [
    "n0 = label[label == 0].count()\n",
    "n1 = label[label == 1].count()\n",
    "n2 = label[label == 2].count()\n",
    "print(f\"health: {n0}, sick_after: {n1}, sick_before: {n2}\")\n",
    "print(n1 + n2 + n0)"
   ],
   "metadata": {
    "collapsed": false
   }
  },
  {
   "cell_type": "markdown",
   "source": [
    "## Remove column with date info"
   ],
   "metadata": {
    "collapsed": false
   }
  },
  {
   "cell_type": "code",
   "execution_count": 8,
   "outputs": [],
   "source": [
    "for i, key in enumerate(df.keys()):\n",
    "    df[key].fillna(-1, inplace=True)"
   ],
   "metadata": {
    "collapsed": false
   }
  },
  {
   "cell_type": "code",
   "execution_count": 9,
   "outputs": [
    {
     "name": "stdout",
     "output_type": "stream",
     "text": [
      "alldementia\n",
      "alzhe1\n",
      "alzhe2\n",
      "vasdementia1\n",
      "vasdementia2\n",
      "frontdementia\n",
      "allparkin\n",
      "parkinson1\n",
      "parkinson2\n",
      "death\n",
      "ectopicpreg\n",
      "{dtype('int64'), dtype('O'), dtype('float64')}\n",
      "dict_items([('int64', 5), ('float64', 193), ('object', 11)])\n"
     ]
    }
   ],
   "source": [
    "from collections import defaultdict\n",
    "data_type = set()\n",
    "data_type_dict = defaultdict(int)\n",
    "\n",
    "for key in df.keys():\n",
    "    data_type.add(df[key].dtype)\n",
    "    data_type_dict[str(df[key].dtype)] += 1\n",
    "    if df[key].dtype == \"object\":\n",
    "        df.drop(columns=[key], inplace=True)\n",
    "        print(key)\n",
    "\n",
    "print(data_type)\n",
    "print(data_type_dict.items())"
   ],
   "metadata": {
    "collapsed": false
   }
  },
  {
   "cell_type": "code",
   "execution_count": 10,
   "outputs": [],
   "source": [
    "df.drop(columns=[\"endometri\", \"dateofattending\"], inplace=True)\n",
    "df.drop(columns=[\"Unnamed: 0\", \"eid\"], inplace=True)"
   ],
   "metadata": {
    "collapsed": false
   }
  },
  {
   "cell_type": "markdown",
   "source": [
    "## Save numpy array for training / valid / test"
   ],
   "metadata": {
    "collapsed": false
   }
  },
  {
   "cell_type": "code",
   "execution_count": 11,
   "outputs": [],
   "source": [
    "df.insert(df.shape[1], \"label\", label)"
   ],
   "metadata": {
    "collapsed": false
   }
  },
  {
   "cell_type": "code",
   "execution_count": 12,
   "outputs": [],
   "source": [
    "data = df.to_numpy()"
   ],
   "metadata": {
    "collapsed": false
   }
  },
  {
   "cell_type": "code",
   "execution_count": 13,
   "outputs": [],
   "source": [
    "import numpy as np\n",
    "np.save(\"ukb_array_3_classes.npy\", data)"
   ],
   "metadata": {
    "collapsed": false
   }
  },
  {
   "cell_type": "code",
   "execution_count": 16,
   "outputs": [
    {
     "name": "stdout",
     "output_type": "stream",
     "text": [
      "num of training data : 191347, valid data : 27335, test data : 54670, total num of samples : 273353\n"
     ]
    }
   ],
   "source": [
    "def split_data(array, save=False):\n",
    "    row_total = array.shape[0]\n",
    "    num_train_sample = int(row_total * 0.7)\n",
    "    num_valid_sample = int(row_total * 0.1)\n",
    "    num_test_sample = int(row_total * 0.2)\n",
    "    print(\n",
    "        f\"num of training data : {num_train_sample}, \" +\n",
    "        f\"valid data : {num_valid_sample}, \" +\n",
    "        f\"test data : {num_test_sample}, \" +\n",
    "        f\"total num of samples : {row_total}\"\n",
    "    )\n",
    "    row_sequence = np.arange(row_total)\n",
    "    np.random.shuffle(row_sequence)\n",
    "    train_arr = array[row_sequence[0: num_train_sample], :]\n",
    "    valid_arr = array[row_sequence[num_train_sample: num_train_sample + num_valid_sample], :]\n",
    "    test_arr = array[row_sequence[-num_test_sample: ], :]\n",
    "    if save:\n",
    "        np.save(\"ukb_array_train.npy\", train_arr)\n",
    "        np.save(\"ukb_array_valid.npy\", valid_arr)\n",
    "        np.save(\"ukb_array_test.npy\", test_arr)\n",
    "    return train_arr, valid_arr, test_arr\n",
    "\n",
    "train_arr, valid_arr, test_arr = split_data(data)"
   ],
   "metadata": {
    "collapsed": false
   }
  },
  {
   "cell_type": "markdown",
   "source": [
    "## Data split and distribute"
   ],
   "metadata": {
    "collapsed": false
   }
  },
  {
   "cell_type": "code",
   "execution_count": 22,
   "outputs": [
    {
     "name": "stdout",
     "output_type": "stream",
     "text": [
      "health : 26377, sick_after : 806, sick_before : 152, total : 27335\n"
     ]
    }
   ],
   "source": [
    "def distribute(data_file):\n",
    "    data = np.load(data_file)\n",
    "    cla_0 = (data[:, -1] == 0).sum()\n",
    "    cla_1 = (data[:, -1] == 1).sum()\n",
    "    cla_2 = (data[:, -1] == 2).sum()\n",
    "    print(f\"health : {cla_0}, sick_after : {cla_1}, sick_before : {cla_2}, total : {len(data)}\")\n",
    "\n",
    "distribute(\"./ukb_array_valid.npy\")\n"
   ],
   "metadata": {
    "collapsed": false
   }
  },
  {
   "cell_type": "code",
   "execution_count": 23,
   "outputs": [
    {
     "name": "stdout",
     "output_type": "stream",
     "text": [
      "health : 52639, sick_after : 1703, sick_before : 328, total : 54670\n"
     ]
    }
   ],
   "source": [
    "distribute(\"./ukb_array_test.npy\")\n"
   ],
   "metadata": {
    "collapsed": false
   }
  },
  {
   "cell_type": "code",
   "execution_count": 24,
   "outputs": [
    {
     "name": "stdout",
     "output_type": "stream",
     "text": [
      "health : 184397, sick_after : 5863, sick_before : 1087, total : 191347\n"
     ]
    }
   ],
   "source": [
    "distribute(\"./ukb_array_train.npy\")\n"
   ],
   "metadata": {
    "collapsed": false
   }
  },
  {
   "cell_type": "code",
   "execution_count": null,
   "outputs": [],
   "source": [],
   "metadata": {
    "collapsed": false
   }
  }
 ],
 "metadata": {
  "kernelspec": {
   "display_name": "Python 3",
   "language": "python",
   "name": "python3"
  },
  "language_info": {
   "codemirror_mode": {
    "name": "ipython",
    "version": 2
   },
   "file_extension": ".py",
   "mimetype": "text/x-python",
   "name": "python",
   "nbconvert_exporter": "python",
   "pygments_lexer": "ipython2",
   "version": "2.7.6"
  }
 },
 "nbformat": 4,
 "nbformat_minor": 0
}
